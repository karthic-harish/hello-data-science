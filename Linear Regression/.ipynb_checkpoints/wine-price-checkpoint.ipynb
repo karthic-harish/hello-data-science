{
 "cells": [
  {
   "cell_type": "markdown",
   "metadata": {},
   "source": [
    "# Linear Regression to predict price of wine\n",
    "\n",
    "We will build a linear regression model to predict the log price of wine (LPRICE) from the following variables:\n",
    "\n",
    "- VINT (vintage year)\n",
    "- TIME_SV (time since vintage in years)\n",
    "- DEGREES (average tempreature in celsius during growing season from April to September)\n",
    "- WRAIN (winter rain in months preceding vintage from October to March)\n",
    "- HRAIN (Harvest rain from August to September)\n",
    "\n",
    "### Please read wine-analytics.pdf if you haven't to understand the math behind linear regression!!\n",
    "***\n",
    "\n",
    "Let's import the relevant libraries and the wine data"
   ]
  },
  {
   "cell_type": "code",
   "execution_count": 1,
   "metadata": {},
   "outputs": [],
   "source": [
    "import pandas as pd\n",
    "import statsmodels.api as sm"
   ]
  },
  {
   "cell_type": "code",
   "execution_count": 2,
   "metadata": {},
   "outputs": [
    {
     "data": {
      "text/html": [
       "<div>\n",
       "<style scoped>\n",
       "    .dataframe tbody tr th:only-of-type {\n",
       "        vertical-align: middle;\n",
       "    }\n",
       "\n",
       "    .dataframe tbody tr th {\n",
       "        vertical-align: top;\n",
       "    }\n",
       "\n",
       "    .dataframe thead th {\n",
       "        text-align: right;\n",
       "    }\n",
       "</style>\n",
       "<table border=\"1\" class=\"dataframe\">\n",
       "  <thead>\n",
       "    <tr style=\"text-align: right;\">\n",
       "      <th></th>\n",
       "      <th>VINT</th>\n",
       "      <th>LPRICE</th>\n",
       "      <th>WRAIN</th>\n",
       "      <th>DEGREES</th>\n",
       "      <th>HRAIN</th>\n",
       "      <th>TIME_SV</th>\n",
       "    </tr>\n",
       "  </thead>\n",
       "  <tbody>\n",
       "    <tr>\n",
       "      <th>0</th>\n",
       "      <td>1952</td>\n",
       "      <td>-0.99868</td>\n",
       "      <td>600</td>\n",
       "      <td>17.1167</td>\n",
       "      <td>160</td>\n",
       "      <td>31</td>\n",
       "    </tr>\n",
       "    <tr>\n",
       "      <th>1</th>\n",
       "      <td>1953</td>\n",
       "      <td>-0.45440</td>\n",
       "      <td>690</td>\n",
       "      <td>16.7333</td>\n",
       "      <td>80</td>\n",
       "      <td>30</td>\n",
       "    </tr>\n",
       "    <tr>\n",
       "      <th>2</th>\n",
       "      <td>1954</td>\n",
       "      <td>NaN</td>\n",
       "      <td>430</td>\n",
       "      <td>15.3833</td>\n",
       "      <td>180</td>\n",
       "      <td>29</td>\n",
       "    </tr>\n",
       "    <tr>\n",
       "      <th>3</th>\n",
       "      <td>1955</td>\n",
       "      <td>-0.80796</td>\n",
       "      <td>502</td>\n",
       "      <td>17.1500</td>\n",
       "      <td>130</td>\n",
       "      <td>28</td>\n",
       "    </tr>\n",
       "    <tr>\n",
       "      <th>4</th>\n",
       "      <td>1956</td>\n",
       "      <td>NaN</td>\n",
       "      <td>440</td>\n",
       "      <td>15.6500</td>\n",
       "      <td>140</td>\n",
       "      <td>27</td>\n",
       "    </tr>\n",
       "  </tbody>\n",
       "</table>\n",
       "</div>"
      ],
      "text/plain": [
       "   VINT   LPRICE  WRAIN  DEGREES  HRAIN  TIME_SV\n",
       "0  1952 -0.99868    600  17.1167    160       31\n",
       "1  1953 -0.45440    690  16.7333     80       30\n",
       "2  1954      NaN    430  15.3833    180       29\n",
       "3  1955 -0.80796    502  17.1500    130       28\n",
       "4  1956      NaN    440  15.6500    140       27"
      ]
     },
     "execution_count": 2,
     "metadata": {},
     "output_type": "execute_result"
    }
   ],
   "source": [
    "wine = pd.read_csv('wine.csv')\n",
    "wine.head()"
   ]
  },
  {
   "cell_type": "code",
   "execution_count": 3,
   "metadata": {},
   "outputs": [
    {
     "name": "stdout",
     "output_type": "stream",
     "text": [
      "<class 'pandas.core.frame.DataFrame'>\n",
      "RangeIndex: 38 entries, 0 to 37\n",
      "Data columns (total 6 columns):\n",
      "VINT       38 non-null int64\n",
      "LPRICE     27 non-null float64\n",
      "WRAIN      38 non-null int64\n",
      "DEGREES    38 non-null float64\n",
      "HRAIN      38 non-null int64\n",
      "TIME_SV    38 non-null int64\n",
      "dtypes: float64(2), int64(4)\n",
      "memory usage: 1.9 KB\n"
     ]
    }
   ],
   "source": [
    "wine.info()"
   ]
  },
  {
   "cell_type": "code",
   "execution_count": 5,
   "metadata": {},
   "outputs": [
    {
     "data": {
      "text/plain": [
       "VINT        0\n",
       "LPRICE     11\n",
       "WRAIN       0\n",
       "DEGREES     0\n",
       "HRAIN       0\n",
       "TIME_SV     0\n",
       "dtype: int64"
      ]
     },
     "execution_count": 5,
     "metadata": {},
     "output_type": "execute_result"
    }
   ],
   "source": [
    "wine.isnull().sum()"
   ]
  },
  {
   "cell_type": "markdown",
   "metadata": {},
   "source": [
    "Our y variable has 11 NA values. Let's remove them."
   ]
  },
  {
   "cell_type": "code",
   "execution_count": 9,
   "metadata": {},
   "outputs": [],
   "source": [
    "wine = wine.dropna()"
   ]
  },
  {
   "cell_type": "markdown",
   "metadata": {},
   "source": [
    "### Define the X and Y variables\n",
    "***"
   ]
  },
  {
   "cell_type": "code",
   "execution_count": 10,
   "metadata": {},
   "outputs": [],
   "source": [
    "y = wine.LPRICE\n",
    "x = wine.drop(\"LPRICE\", axis = 1)"
   ]
  },
  {
   "cell_type": "markdown",
   "metadata": {},
   "source": [
    "### Fit the Linear Regression Model\n",
    "***"
   ]
  },
  {
   "cell_type": "code",
   "execution_count": 11,
   "metadata": {},
   "outputs": [
    {
     "data": {
      "text/html": [
       "<table class=\"simpletable\">\n",
       "<caption>OLS Regression Results</caption>\n",
       "<tr>\n",
       "  <th>Dep. Variable:</th>         <td>LPRICE</td>      <th>  R-squared:         </th> <td>   0.828</td>\n",
       "</tr>\n",
       "<tr>\n",
       "  <th>Model:</th>                   <td>OLS</td>       <th>  Adj. R-squared:    </th> <td>   0.796</td>\n",
       "</tr>\n",
       "<tr>\n",
       "  <th>Method:</th>             <td>Least Squares</td>  <th>  F-statistic:       </th> <td>   26.39</td>\n",
       "</tr>\n",
       "<tr>\n",
       "  <th>Date:</th>             <td>Tue, 12 Mar 2019</td> <th>  Prob (F-statistic):</th> <td>4.06e-08</td>\n",
       "</tr>\n",
       "<tr>\n",
       "  <th>Time:</th>                 <td>15:58:37</td>     <th>  Log-Likelihood:    </th> <td> -1.7963</td>\n",
       "</tr>\n",
       "<tr>\n",
       "  <th>No. Observations:</th>      <td>    27</td>      <th>  AIC:               </th> <td>   13.59</td>\n",
       "</tr>\n",
       "<tr>\n",
       "  <th>Df Residuals:</th>          <td>    22</td>      <th>  BIC:               </th> <td>   20.07</td>\n",
       "</tr>\n",
       "<tr>\n",
       "  <th>Df Model:</th>              <td>     4</td>      <th>                     </th>     <td> </td>   \n",
       "</tr>\n",
       "<tr>\n",
       "  <th>Covariance Type:</th>      <td>nonrobust</td>    <th>                     </th>     <td> </td>   \n",
       "</tr>\n",
       "</table>\n",
       "<table class=\"simpletable\">\n",
       "<tr>\n",
       "     <td></td>        <th>coef</th>     <th>std err</th>      <th>t</th>      <th>P>|t|</th>  <th>[0.025</th>    <th>0.975]</th>  \n",
       "</tr>\n",
       "<tr>\n",
       "  <th>VINT</th>    <td>   -0.0061</td> <td>    0.001</td> <td>   -7.195</td> <td> 0.000</td> <td>   -0.008</td> <td>   -0.004</td>\n",
       "</tr>\n",
       "<tr>\n",
       "  <th>WRAIN</th>   <td>    0.0012</td> <td>    0.000</td> <td>    2.421</td> <td> 0.024</td> <td>    0.000</td> <td>    0.002</td>\n",
       "</tr>\n",
       "<tr>\n",
       "  <th>DEGREES</th> <td>    0.6164</td> <td>    0.095</td> <td>    6.476</td> <td> 0.000</td> <td>    0.419</td> <td>    0.814</td>\n",
       "</tr>\n",
       "<tr>\n",
       "  <th>HRAIN</th>   <td>   -0.0039</td> <td>    0.001</td> <td>   -4.781</td> <td> 0.000</td> <td>   -0.006</td> <td>   -0.002</td>\n",
       "</tr>\n",
       "<tr>\n",
       "  <th>TIME_SV</th> <td>    0.0177</td> <td>    0.007</td> <td>    2.392</td> <td> 0.026</td> <td>    0.002</td> <td>    0.033</td>\n",
       "</tr>\n",
       "</table>\n",
       "<table class=\"simpletable\">\n",
       "<tr>\n",
       "  <th>Omnibus:</th>       <td> 1.969</td> <th>  Durbin-Watson:     </th> <td>   2.787</td>\n",
       "</tr>\n",
       "<tr>\n",
       "  <th>Prob(Omnibus):</th> <td> 0.374</td> <th>  Jarque-Bera (JB):  </th> <td>   1.102</td>\n",
       "</tr>\n",
       "<tr>\n",
       "  <th>Skew:</th>          <td> 0.038</td> <th>  Prob(JB):          </th> <td>   0.576</td>\n",
       "</tr>\n",
       "<tr>\n",
       "  <th>Kurtosis:</th>      <td> 2.013</td> <th>  Cond. No.          </th> <td>3.57e+03</td>\n",
       "</tr>\n",
       "</table><br/><br/>Warnings:<br/>[1] Standard Errors assume that the covariance matrix of the errors is correctly specified.<br/>[2] The condition number is large, 3.57e+03. This might indicate that there are<br/>strong multicollinearity or other numerical problems."
      ],
      "text/plain": [
       "<class 'statsmodels.iolib.summary.Summary'>\n",
       "\"\"\"\n",
       "                            OLS Regression Results                            \n",
       "==============================================================================\n",
       "Dep. Variable:                 LPRICE   R-squared:                       0.828\n",
       "Model:                            OLS   Adj. R-squared:                  0.796\n",
       "Method:                 Least Squares   F-statistic:                     26.39\n",
       "Date:                Tue, 12 Mar 2019   Prob (F-statistic):           4.06e-08\n",
       "Time:                        15:58:37   Log-Likelihood:                -1.7963\n",
       "No. Observations:                  27   AIC:                             13.59\n",
       "Df Residuals:                      22   BIC:                             20.07\n",
       "Df Model:                           4                                         \n",
       "Covariance Type:            nonrobust                                         \n",
       "==============================================================================\n",
       "                 coef    std err          t      P>|t|      [0.025      0.975]\n",
       "------------------------------------------------------------------------------\n",
       "VINT          -0.0061      0.001     -7.195      0.000      -0.008      -0.004\n",
       "WRAIN          0.0012      0.000      2.421      0.024       0.000       0.002\n",
       "DEGREES        0.6164      0.095      6.476      0.000       0.419       0.814\n",
       "HRAIN         -0.0039      0.001     -4.781      0.000      -0.006      -0.002\n",
       "TIME_SV        0.0177      0.007      2.392      0.026       0.002       0.033\n",
       "==============================================================================\n",
       "Omnibus:                        1.969   Durbin-Watson:                   2.787\n",
       "Prob(Omnibus):                  0.374   Jarque-Bera (JB):                1.102\n",
       "Skew:                           0.038   Prob(JB):                        0.576\n",
       "Kurtosis:                       2.013   Cond. No.                     3.57e+03\n",
       "==============================================================================\n",
       "\n",
       "Warnings:\n",
       "[1] Standard Errors assume that the covariance matrix of the errors is correctly specified.\n",
       "[2] The condition number is large, 3.57e+03. This might indicate that there are\n",
       "strong multicollinearity or other numerical problems.\n",
       "\"\"\""
      ]
     },
     "execution_count": 11,
     "metadata": {},
     "output_type": "execute_result"
    }
   ],
   "source": [
    "winelm = sm.OLS(y, x)\n",
    "winelm_results = winelm.fit()\n",
    "winelm_results.summary()"
   ]
  },
  {
   "cell_type": "markdown",
   "metadata": {},
   "source": [
    "### Conclusion: Linear model is a good fit for this data due to the high R squared value"
   ]
  }
 ],
 "metadata": {
  "kernelspec": {
   "display_name": "Python 3",
   "language": "python",
   "name": "python3"
  },
  "language_info": {
   "codemirror_mode": {
    "name": "ipython",
    "version": 3
   },
   "file_extension": ".py",
   "mimetype": "text/x-python",
   "name": "python",
   "nbconvert_exporter": "python",
   "pygments_lexer": "ipython3",
   "version": "3.6.5"
  }
 },
 "nbformat": 4,
 "nbformat_minor": 2
}
